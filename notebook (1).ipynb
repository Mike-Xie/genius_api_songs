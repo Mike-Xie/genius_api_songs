{
  "cells": [
    {
      "cell_type": "code",
      "metadata": {
        "tags": [],
        "cell_id": "00000-69f9eba7-dd5c-4f8e-ab03-3b28ffb56083",
        "deepnote_to_be_reexecuted": false,
        "source_hash": "c957e9b2",
        "execution_millis": 5737,
        "execution_start": 1618894123828,
        "deepnote_cell_type": "code"
      },
      "source": "pip install git+https://github.com/johnwmillr/LyricsGenius.git",
      "execution_count": null,
      "outputs": [
        {
          "name": "stdout",
          "text": "Collecting git+https://github.com/johnwmillr/LyricsGenius.git\n  Cloning https://github.com/johnwmillr/LyricsGenius.git to /tmp/pip-req-build-d2_sp03l\n  Running command git clone -q https://github.com/johnwmillr/LyricsGenius.git /tmp/pip-req-build-d2_sp03l\nCollecting beautifulsoup4>=4.6.0\n  Downloading beautifulsoup4-4.9.3-py3-none-any.whl (115 kB)\n\u001b[K     |████████████████████████████████| 115 kB 24.0 MB/s \n\u001b[?25hRequirement already satisfied: requests>=2.20.0 in /shared-libs/python3.7/py/lib/python3.7/site-packages (from lyricsgenius==3.0.1) (2.25.1)\nCollecting soupsieve>1.2\n  Downloading soupsieve-2.2.1-py3-none-any.whl (33 kB)\nRequirement already satisfied: idna<3,>=2.5 in /shared-libs/python3.7/py/lib/python3.7/site-packages (from requests>=2.20.0->lyricsgenius==3.0.1) (2.10)\nRequirement already satisfied: certifi>=2017.4.17 in /shared-libs/python3.7/py/lib/python3.7/site-packages (from requests>=2.20.0->lyricsgenius==3.0.1) (2020.12.5)\nRequirement already satisfied: chardet<5,>=3.0.2 in /shared-libs/python3.7/py/lib/python3.7/site-packages (from requests>=2.20.0->lyricsgenius==3.0.1) (3.0.4)\nRequirement already satisfied: urllib3<1.27,>=1.21.1 in /shared-libs/python3.7/py/lib/python3.7/site-packages (from requests>=2.20.0->lyricsgenius==3.0.1) (1.26.4)\nBuilding wheels for collected packages: lyricsgenius\n  Building wheel for lyricsgenius (setup.py) ... \u001b[?25ldone\n\u001b[?25h  Created wheel for lyricsgenius: filename=lyricsgenius-3.0.1-py3-none-any.whl size=44669 sha256=9ae71709bd1c8ee5a34a9fa4d123476c90c4cefc473cb31bee2b1232bb046b79\n  Stored in directory: /tmp/pip-ephem-wheel-cache-tbh6nwq3/wheels/12/d5/2b/6b771ebb067bceb8816ec5eef0dd0d36bf069b18f03ac8ca20\nSuccessfully built lyricsgenius\nInstalling collected packages: soupsieve, beautifulsoup4, lyricsgenius\nSuccessfully installed beautifulsoup4-4.9.3 lyricsgenius-3.0.1 soupsieve-2.2.1\nNote: you may need to restart the kernel to use updated packages.\n",
          "output_type": "stream"
        }
      ]
    },
    {
      "cell_type": "code",
      "metadata": {
        "tags": [],
        "cell_id": "00001-c1c2dff8-2c95-4283-893f-75673b511729",
        "deepnote_to_be_reexecuted": false,
        "source_hash": "38ba2bd4",
        "execution_millis": 106,
        "execution_start": 1618894129546,
        "deepnote_cell_type": "code"
      },
      "source": "import lyricsgenius as lg \nimport pandas as pd ",
      "execution_count": null,
      "outputs": []
    },
    {
      "cell_type": "code",
      "metadata": {
        "tags": [],
        "cell_id": "00002-bc55c85d-e46f-45e7-9b3c-d0c7340bfd35",
        "deepnote_to_be_reexecuted": false,
        "source_hash": "c9c18985",
        "execution_millis": 726,
        "output_cleared": false,
        "execution_start": 1618894129654,
        "deepnote_cell_type": "code"
      },
      "source": "token = \"\" # insert your own token from registering an app and account on genius.com \n\ngenius = lg.Genius(access_token=token)\n\ntest_song_name = \"My Heart Will Go On\"\ntest_song_author = \"Celine Dion\"\n\nsong = genius.search_song(test_song_name, test_song_author)\nprint(song.lyrics)",
      "execution_count": null,
      "outputs": [
        {
          "name": "stdout",
          "text": "Searching for \"My Heart Will Go On\" by Celine Dion...\nDone.\n[Verse 1]\nEvery night in my dreams\nI see you, I feel you\nThat is how I know you go on\nFar across the distance\nAnd spaces between us\nYou have come to show you go on\n\n[Chorus]\nNear, far, wherever you are\nI believe that the heart does go on\nOnce more, you open the door\nAnd you're here in my heart\nAnd my heart will go on and on\n\n[Verse 2]\nLove can touch us one time\nAnd last for a lifetime\nAnd never let go 'til we're gone\nLove was when I loved you\nOne true time I'd hold to\nIn my life, we'll always go on\n\n[Chorus]\nNear, far, wherever you are\nI believe that the heart does go on\nOnce more, you open the door\nAnd you're here in my heart\nAnd my heart will go on and on\n\n[Outro]\nYou're here, there's nothing I fear\nAnd I know that my heart will go on\nWe'll stay forever this way\nYou are safe in my heart\nAnd my heart will go on and on\n",
          "output_type": "stream"
        }
      ]
    },
    {
      "cell_type": "code",
      "metadata": {
        "tags": [],
        "cell_id": "00003-194a4e23-4616-4442-ade1-2935af502e27",
        "deepnote_to_be_reexecuted": false,
        "source_hash": "49e93e38",
        "execution_millis": 0,
        "execution_start": 1618894130382,
        "deepnote_cell_type": "code"
      },
      "source": "songs = {'Song_Title': ['My Heart Will Go On', 'Yesterday'],\n        'Singer_Name': ['Celine Dion', 'The Beatles'] }",
      "execution_count": null,
      "outputs": []
    },
    {
      "cell_type": "code",
      "metadata": {
        "tags": [],
        "cell_id": "00004-7b0a79d2-26cb-4264-bfc1-18dfdf49dd43",
        "deepnote_to_be_reexecuted": false,
        "source_hash": "80e66a9e",
        "execution_millis": 516,
        "execution_start": 1618894130392,
        "deepnote_cell_type": "code"
      },
      "source": "df = pd.DataFrame(songs, columns=[\"Song_Title\", \"Singer_Name\"])\nprint(df)\n\ndef get_lyrics(Song_Title, Singer_Name):\n    song = genius.search_song(Song_Title, Singer_Name)\n    return song.lyrics\n\nget_lyrics(test_song_name, test_song_author)",
      "execution_count": null,
      "outputs": [
        {
          "name": "stdout",
          "text": "            Song_Title  Singer_Name\n0  My Heart Will Go On  Celine Dion\n1            Yesterday  The Beatles\nSearching for \"My Heart Will Go On\" by Celine Dion...\nDone.\n",
          "output_type": "stream"
        },
        {
          "output_type": "execute_result",
          "execution_count": 5,
          "data": {
            "text/plain": "\"[Verse 1]\\nEvery night in my dreams\\nI see you, I feel you\\nThat is how I know you go on\\nFar across the distance\\nAnd spaces between us\\nYou have come to show you go on\\n\\n[Chorus]\\nNear, far, wherever you are\\nI believe that the heart does go on\\nOnce more, you open the door\\nAnd you're here in my heart\\nAnd my heart will go on and on\\n\\n[Verse 2]\\nLove can touch us one time\\nAnd last for a lifetime\\nAnd never let go 'til we're gone\\nLove was when I loved you\\nOne true time I'd hold to\\nIn my life, we'll always go on\\n\\n[Chorus]\\nNear, far, wherever you are\\nI believe that the heart does go on\\nOnce more, you open the door\\nAnd you're here in my heart\\nAnd my heart will go on and on\\n\\n[Outro]\\nYou're here, there's nothing I fear\\nAnd I know that my heart will go on\\nWe'll stay forever this way\\nYou are safe in my heart\\nAnd my heart will go on and on\""
          },
          "metadata": {}
        }
      ]
    },
    {
      "cell_type": "code",
      "metadata": {
        "tags": [],
        "cell_id": "00005-278dab3f-77c5-45d9-bf1b-dbe0ec6f3cf1",
        "deepnote_to_be_reexecuted": false,
        "source_hash": "e78a4f31",
        "execution_millis": 2549,
        "execution_start": 1618894130910,
        "deepnote_cell_type": "code"
      },
      "source": "\"\"\"\nhttps://www.codeforests.com/2020/07/18/pass-multiple-columns-to-lambda/\n\nhttps://stackoverflow.com/questions/67172364/create-new-column-in-dataframe-by-passing-existing-pandas-column-values-as-argum/67172391#67172391\n\"\"\"\n\ndf[\"Lyrics\"] = df.apply(lambda x : \nget_lyrics(x[\"Song_Title\"], x[\"Singer_Name\"]), axis=1\n)\n\ndf[\"Also_Lyrics\"] = df[[\"Song_Title\", \"Singer_Name\"]].apply(lambda x: \nget_lyrics(*x),\naxis=1)",
      "execution_count": null,
      "outputs": [
        {
          "name": "stdout",
          "text": "Searching for \"My Heart Will Go On\" by Celine Dion...\nDone.\nSearching for \"Yesterday\" by The Beatles...\nDone.\nSearching for \"My Heart Will Go On\" by Celine Dion...\nDone.\nSearching for \"Yesterday\" by The Beatles...\nDone.\n",
          "output_type": "stream"
        }
      ]
    },
    {
      "cell_type": "code",
      "metadata": {
        "tags": [],
        "cell_id": "00006-2fe9a4f0-29dc-40fd-a185-4e84248dde6c",
        "deepnote_to_be_reexecuted": false,
        "source_hash": "57eff826",
        "execution_millis": 9,
        "execution_start": 1618894133463,
        "deepnote_cell_type": "code"
      },
      "source": "print(df)",
      "execution_count": null,
      "outputs": [
        {
          "name": "stdout",
          "text": "            Song_Title  Singer_Name  \\\n0  My Heart Will Go On  Celine Dion   \n1            Yesterday  The Beatles   \n\n                                              Lyrics  \\\n0  [Verse 1]\\nEvery night in my dreams\\nI see you...   \n1  [Verse 1]\\nYesterday\\nAll my troubles seemed s...   \n\n                                         Also_Lyrics  \n0  [Verse 1]\\nEvery night in my dreams\\nI see you...  \n1  [Verse 1]\\nYesterday\\nAll my troubles seemed s...  \n",
          "output_type": "stream"
        }
      ]
    },
    {
      "cell_type": "code",
      "metadata": {
        "tags": [],
        "cell_id": "00008-0a0d0603-4368-4b3b-b5be-9f1a63f9774b",
        "deepnote_to_be_reexecuted": false,
        "source_hash": "c085b6ba",
        "execution_start": 1618895379516,
        "execution_millis": 24,
        "deepnote_cell_type": "code"
      },
      "source": "df.head()",
      "execution_count": null,
      "outputs": [
        {
          "output_type": "execute_result",
          "execution_count": 9,
          "data": {
            "application/vnd.deepnote.dataframe.v2+json": {
              "row_count": 2,
              "column_count": 5,
              "columns": [
                {
                  "name": "Song_Title",
                  "dtype": "object",
                  "stats": {
                    "unique_count": 2,
                    "nan_count": 0,
                    "categories": [
                      {
                        "name": "My Heart Will Go On",
                        "count": 1
                      },
                      {
                        "name": "Yesterday",
                        "count": 1
                      }
                    ]
                  }
                },
                {
                  "name": "Singer_Name",
                  "dtype": "object",
                  "stats": {
                    "unique_count": 2,
                    "nan_count": 0,
                    "categories": [
                      {
                        "name": "Celine Dion",
                        "count": 1
                      },
                      {
                        "name": "The Beatles",
                        "count": 1
                      }
                    ]
                  }
                },
                {
                  "name": "Lyrics",
                  "dtype": "object",
                  "stats": {
                    "unique_count": 2,
                    "nan_count": 0,
                    "categories": [
                      {
                        "name": "[Verse 1]\nEvery night in my dreams\nI see you, I feel you\nThat is how I know you go on\nFar across the distance\nAnd spaces between us\nYou have come to show you go on\n\n[Chorus]\nNear, far, wherever you are\nI believe that the heart does go on\nOnce more, you open the door\nAnd you're here in my heart\nAnd my heart will go on and on\n\n[Verse 2]\nLove can touch us one time\nAnd last for a lifetime\nAnd never let go 'til we're gone\nLove was when I loved you\nOne true time I'd hold to\nIn my life, we'll always go on\n\n[Chorus]\nNear, far, wherever you are\nI believe that the heart does go on\nOnce more, you open the door\nAnd you're here in my heart\nAnd my heart will go on and on\n\n[Outro]\nYou're here, there's nothing I fear\nAnd I know that my heart will go on\nWe'll stay forever this way\nYou are safe in my heart\nAnd my heart will go on and on",
                        "count": 1
                      },
                      {
                        "name": "[Verse 1]\nYesterday\nAll my troubles seemed so far away\nNow it looks as though they're here to stay\nOh, I believe in yesterday\n\n[Verse 2]\nSuddenly\nI'm not half the man I used to be\nThere's a shadow hanging over me\nOh, yesterday came suddenly\n\n[Chorus]\nWhy she had to go\nI don't know, she wouldn't say\nI said something wrong\nNow I long for yesterday\n\n[Verse 3]\nYesterday\nLove was such an easy game to play\nNow I need a place to hide away\nOh, I believe in yesterday\n\n[Chorus]\nWhy she had to go\nI don't know, she wouldn't say\nI said something wrong\nNow I long for yesterday\n\n[Verse 3]\nYesterday\nLove was such an easy game to play\nNow I need a place to hide away\nOh, I believe in yesterday\n\n[Outro]\nMmm-mmm-mmm-mmm-mmm, hmm-hmm",
                        "count": 1
                      }
                    ]
                  }
                },
                {
                  "name": "Also_Lyrics",
                  "dtype": "object",
                  "stats": {
                    "unique_count": 2,
                    "nan_count": 0,
                    "categories": [
                      {
                        "name": "[Verse 1]\nEvery night in my dreams\nI see you, I feel you\nThat is how I know you go on\nFar across the distance\nAnd spaces between us\nYou have come to show you go on\n\n[Chorus]\nNear, far, wherever you are\nI believe that the heart does go on\nOnce more, you open the door\nAnd you're here in my heart\nAnd my heart will go on and on\n\n[Verse 2]\nLove can touch us one time\nAnd last for a lifetime\nAnd never let go 'til we're gone\nLove was when I loved you\nOne true time I'd hold to\nIn my life, we'll always go on\n\n[Chorus]\nNear, far, wherever you are\nI believe that the heart does go on\nOnce more, you open the door\nAnd you're here in my heart\nAnd my heart will go on and on\n\n[Outro]\nYou're here, there's nothing I fear\nAnd I know that my heart will go on\nWe'll stay forever this way\nYou are safe in my heart\nAnd my heart will go on and on",
                        "count": 1
                      },
                      {
                        "name": "[Verse 1]\nYesterday\nAll my troubles seemed so far away\nNow it looks as though they're here to stay\nOh, I believe in yesterday\n\n[Verse 2]\nSuddenly\nI'm not half the man I used to be\nThere's a shadow hanging over me\nOh, yesterday came suddenly\n\n[Chorus]\nWhy she had to go\nI don't know, she wouldn't say\nI said something wrong\nNow I long for yesterday\n\n[Verse 3]\nYesterday\nLove was such an easy game to play\nNow I need a place to hide away\nOh, I believe in yesterday\n\n[Chorus]\nWhy she had to go\nI don't know, she wouldn't say\nI said something wrong\nNow I long for yesterday\n\n[Verse 3]\nYesterday\nLove was such an easy game to play\nNow I need a place to hide away\nOh, I believe in yesterday\n\n[Outro]\nMmm-mmm-mmm-mmm-mmm, hmm-hmm",
                        "count": 1
                      }
                    ]
                  }
                },
                {
                  "name": "2Lyrics",
                  "dtype": "object",
                  "stats": {
                    "unique_count": 2,
                    "nan_count": 0,
                    "categories": [
                      {
                        "name": "[Verse 1]\nEvery night in my dreams\nI see you, I feel you\nThat is how I know you go on\nFar across the distance\nAnd spaces between us\nYou have come to show you go on\n\n[Chorus]\nNear, far, wherever you are\nI believe that the heart does go on\nOnce more, you open the door\nAnd you're here in my heart\nAnd my heart will go on and on\n\n[Verse 2]\nLove can touch us one time\nAnd last for a lifetime\nAnd never let go 'til we're gone\nLove was when I loved you\nOne true time I'd hold to\nIn my life, we'll always go on\n\n[Chorus]\nNear, far, wherever you are\nI believe that the heart does go on\nOnce more, you open the door\nAnd you're here in my heart\nAnd my heart will go on and on\n\n[Outro]\nYou're here, there's nothing I fear\nAnd I know that my heart will go on\nWe'll stay forever this way\nYou are safe in my heart\nAnd my heart will go on and on",
                        "count": 1
                      },
                      {
                        "name": "[Verse 1]\nYesterday\nAll my troubles seemed so far away\nNow it looks as though they're here to stay\nOh, I believe in yesterday\n\n[Verse 2]\nSuddenly\nI'm not half the man I used to be\nThere's a shadow hanging over me\nOh, yesterday came suddenly\n\n[Chorus]\nWhy she had to go\nI don't know, she wouldn't say\nI said something wrong\nNow I long for yesterday\n\n[Verse 3]\nYesterday\nLove was such an easy game to play\nNow I need a place to hide away\nOh, I believe in yesterday\n\n[Chorus]\nWhy she had to go\nI don't know, she wouldn't say\nI said something wrong\nNow I long for yesterday\n\n[Verse 3]\nYesterday\nLove was such an easy game to play\nNow I need a place to hide away\nOh, I believe in yesterday\n\n[Outro]\nMmm-mmm-mmm-mmm-mmm, hmm-hmm",
                        "count": 1
                      }
                    ]
                  }
                },
                {
                  "name": "_deepnote_index_column",
                  "dtype": "int64"
                }
              ],
              "rows_top": [
                {
                  "Song_Title": "My Heart Will Go On",
                  "Singer_Name": "Celine Dion",
                  "Lyrics": "[Verse 1]\nEvery night in my dreams\nI see you, I feel you\nThat is how I know you go on\nFar across the distance\nAnd spaces between us\nYou have come to show you go on\n\n[Chorus]\nNear, far, wherever you are\nI believe that the heart does go on\nOnce more, you open the door\nAnd you're here in my heart\nAnd my heart will go on and on\n\n[Verse 2]\nLove can touch us one time\nAnd last for a lifetime\nAnd never let go 'til we're gone\nLove was when I loved you\nOne true time I'd hold to\nIn my life, we'll always go on\n\n[Chorus]\nNear, far, wherever you are\nI believe that the heart does go on\nOnce more, you open the door\nAnd you're here in my heart\nAnd my heart will go on and on\n\n[Outro]\nYou're here, there's nothing I fear\nAnd I know that my heart will go on\nWe'll stay forever this way\nYou are safe in my heart\nAnd my heart will go on and on",
                  "Also_Lyrics": "[Verse 1]\nEvery night in my dreams\nI see you, I feel you\nThat is how I know you go on\nFar across the distance\nAnd spaces between us\nYou have come to show you go on\n\n[Chorus]\nNear, far, wherever you are\nI believe that the heart does go on\nOnce more, you open the door\nAnd you're here in my heart\nAnd my heart will go on and on\n\n[Verse 2]\nLove can touch us one time\nAnd last for a lifetime\nAnd never let go 'til we're gone\nLove was when I loved you\nOne true time I'd hold to\nIn my life, we'll always go on\n\n[Chorus]\nNear, far, wherever you are\nI believe that the heart does go on\nOnce more, you open the door\nAnd you're here in my heart\nAnd my heart will go on and on\n\n[Outro]\nYou're here, there's nothing I fear\nAnd I know that my heart will go on\nWe'll stay forever this way\nYou are safe in my heart\nAnd my heart will go on and on",
                  "2Lyrics": "[Verse 1]\nEvery night in my dreams\nI see you, I feel you\nThat is how I know you go on\nFar across the distance\nAnd spaces between us\nYou have come to show you go on\n\n[Chorus]\nNear, far, wherever you are\nI believe that the heart does go on\nOnce more, you open the door\nAnd you're here in my heart\nAnd my heart will go on and on\n\n[Verse 2]\nLove can touch us one time\nAnd last for a lifetime\nAnd never let go 'til we're gone\nLove was when I loved you\nOne true time I'd hold to\nIn my life, we'll always go on\n\n[Chorus]\nNear, far, wherever you are\nI believe that the heart does go on\nOnce more, you open the door\nAnd you're here in my heart\nAnd my heart will go on and on\n\n[Outro]\nYou're here, there's nothing I fear\nAnd I know that my heart will go on\nWe'll stay forever this way\nYou are safe in my heart\nAnd my heart will go on and on",
                  "_deepnote_index_column": 0
                },
                {
                  "Song_Title": "Yesterday",
                  "Singer_Name": "The Beatles",
                  "Lyrics": "[Verse 1]\nYesterday\nAll my troubles seemed so far away\nNow it looks as though they're here to stay\nOh, I believe in yesterday\n\n[Verse 2]\nSuddenly\nI'm not half the man I used to be\nThere's a shadow hanging over me\nOh, yesterday came suddenly\n\n[Chorus]\nWhy she had to go\nI don't know, she wouldn't say\nI said something wrong\nNow I long for yesterday\n\n[Verse 3]\nYesterday\nLove was such an easy game to play\nNow I need a place to hide away\nOh, I believe in yesterday\n\n[Chorus]\nWhy she had to go\nI don't know, she wouldn't say\nI said something wrong\nNow I long for yesterday\n\n[Verse 3]\nYesterday\nLove was such an easy game to play\nNow I need a place to hide away\nOh, I believe in yesterday\n\n[Outro]\nMmm-mmm-mmm-mmm-mmm, hmm-hmm",
                  "Also_Lyrics": "[Verse 1]\nYesterday\nAll my troubles seemed so far away\nNow it looks as though they're here to stay\nOh, I believe in yesterday\n\n[Verse 2]\nSuddenly\nI'm not half the man I used to be\nThere's a shadow hanging over me\nOh, yesterday came suddenly\n\n[Chorus]\nWhy she had to go\nI don't know, she wouldn't say\nI said something wrong\nNow I long for yesterday\n\n[Verse 3]\nYesterday\nLove was such an easy game to play\nNow I need a place to hide away\nOh, I believe in yesterday\n\n[Chorus]\nWhy she had to go\nI don't know, she wouldn't say\nI said something wrong\nNow I long for yesterday\n\n[Verse 3]\nYesterday\nLove was such an easy game to play\nNow I need a place to hide away\nOh, I believe in yesterday\n\n[Outro]\nMmm-mmm-mmm-mmm-mmm, hmm-hmm",
                  "2Lyrics": "[Verse 1]\nYesterday\nAll my troubles seemed so far away\nNow it looks as though they're here to stay\nOh, I believe in yesterday\n\n[Verse 2]\nSuddenly\nI'm not half the man I used to be\nThere's a shadow hanging over me\nOh, yesterday came suddenly\n\n[Chorus]\nWhy she had to go\nI don't know, she wouldn't say\nI said something wrong\nNow I long for yesterday\n\n[Verse 3]\nYesterday\nLove was such an easy game to play\nNow I need a place to hide away\nOh, I believe in yesterday\n\n[Chorus]\nWhy she had to go\nI don't know, she wouldn't say\nI said something wrong\nNow I long for yesterday\n\n[Verse 3]\nYesterday\nLove was such an easy game to play\nNow I need a place to hide away\nOh, I believe in yesterday\n\n[Outro]\nMmm-mmm-mmm-mmm-mmm, hmm-hmm",
                  "_deepnote_index_column": 1
                }
              ],
              "rows_bottom": null
            },
            "text/plain": "            Song_Title  Singer_Name  \\\n0  My Heart Will Go On  Celine Dion   \n1            Yesterday  The Beatles   \n\n                                              Lyrics  \\\n0  [Verse 1]\\nEvery night in my dreams\\nI see you...   \n1  [Verse 1]\\nYesterday\\nAll my troubles seemed s...   \n\n                                         Also_Lyrics  \\\n0  [Verse 1]\\nEvery night in my dreams\\nI see you...   \n1  [Verse 1]\\nYesterday\\nAll my troubles seemed s...   \n\n                                             2Lyrics  \n0  [Verse 1]\\nEvery night in my dreams\\nI see you...  \n1  [Verse 1]\\nYesterday\\nAll my troubles seemed s...  ",
            "text/html": "<div>\n<style scoped>\n    .dataframe tbody tr th:only-of-type {\n        vertical-align: middle;\n    }\n\n    .dataframe tbody tr th {\n        vertical-align: top;\n    }\n\n    .dataframe thead th {\n        text-align: right;\n    }\n</style>\n<table border=\"1\" class=\"dataframe\">\n  <thead>\n    <tr style=\"text-align: right;\">\n      <th></th>\n      <th>Song_Title</th>\n      <th>Singer_Name</th>\n      <th>Lyrics</th>\n      <th>Also_Lyrics</th>\n      <th>2Lyrics</th>\n    </tr>\n  </thead>\n  <tbody>\n    <tr>\n      <th>0</th>\n      <td>My Heart Will Go On</td>\n      <td>Celine Dion</td>\n      <td>[Verse 1]\\nEvery night in my dreams\\nI see you...</td>\n      <td>[Verse 1]\\nEvery night in my dreams\\nI see you...</td>\n      <td>[Verse 1]\\nEvery night in my dreams\\nI see you...</td>\n    </tr>\n    <tr>\n      <th>1</th>\n      <td>Yesterday</td>\n      <td>The Beatles</td>\n      <td>[Verse 1]\\nYesterday\\nAll my troubles seemed s...</td>\n      <td>[Verse 1]\\nYesterday\\nAll my troubles seemed s...</td>\n      <td>[Verse 1]\\nYesterday\\nAll my troubles seemed s...</td>\n    </tr>\n  </tbody>\n</table>\n</div>"
          },
          "metadata": {}
        }
      ]
    },
    {
      "cell_type": "code",
      "metadata": {
        "tags": [],
        "cell_id": "00008-56d66240-9585-4e65-8303-7f69a1231f1d",
        "deepnote_cell_type": "code"
      },
      "source": "",
      "execution_count": null,
      "outputs": []
    },
    {
      "cell_type": "markdown",
      "source": "<a style='text-decoration:none;line-height:16px;display:flex;color:#5B5B62;padding:10px;justify-content:end;' href='https://deepnote.com?utm_source=created-in-deepnote-cell&projectId=bc69f318-f918-485e-851a-4a413455e7b2' target=\"_blank\">\n<img alt='Created in deepnote.com' style='display:inline;max-height:16px;margin:0px;margin-right:7.5px;' src='data:image/svg+xml;base64,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' > </img>\nCreated in <span style='font-weight:600;margin-left:4px;'>Deepnote</span></a>",
      "metadata": {
        "tags": [],
        "created_in_deepnote_cell": true,
        "deepnote_cell_type": "markdown"
      }
    }
  ],
  "nbformat": 4,
  "nbformat_minor": 2,
  "metadata": {
    "orig_nbformat": 2,
    "deepnote": {
      "is_reactive": false
    },
    "deepnote_notebook_id": "c1385d3f-d352-4b31-9434-fe07712473ce",
    "deepnote_execution_queue": []
  }
}